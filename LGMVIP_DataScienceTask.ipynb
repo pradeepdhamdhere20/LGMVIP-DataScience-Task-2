{
  "nbformat": 4,
  "nbformat_minor": 0,
  "metadata": {
    "colab": {
      "name": "LGMVIP-DataScienceTask.ipynb",
      "provenance": [],
      "collapsed_sections": [],
      "authorship_tag": "ABX9TyM6JRutLEQ7SxQTnZTcYQRm",
      "include_colab_link": true
    },
    "kernelspec": {
      "name": "python3",
      "display_name": "Python 3"
    },
    "language_info": {
      "name": "python"
    }
  },
  "cells": [
    {
      "cell_type": "markdown",
      "metadata": {
        "id": "view-in-github",
        "colab_type": "text"
      },
      "source": [
        "<a href=\"https://colab.research.google.com/github/pradeepdhamdhere20/LGMVIP-DataScience-Task-2/blob/main/LGMVIP_DataScienceTask.ipynb\" target=\"_parent\"><img src=\"https://colab.research.google.com/assets/colab-badge.svg\" alt=\"Open In Colab\"/></a>"
      ]
    },
    {
      "cell_type": "markdown",
      "source": [
        "**Performred by- Pradeep Suresh Dhamdhere**"
      ],
      "metadata": {
        "id": "GTsTyeH4WteQ"
      }
    },
    {
      "cell_type": "markdown",
      "source": [
        "TASK 2 : Stock Market Prediction and Forecasting Using Stacked LSTM"
      ],
      "metadata": {
        "id": "uggUsYLAk0YU"
      }
    },
    {
      "cell_type": "markdown",
      "source": [
        "Import the Necessary libraries\n",
        "\n"
      ],
      "metadata": {
        "id": "SK4oXPF6W-0t"
      }
    },
    {
      "cell_type": "code",
      "source": [
        "import numpy as np\n",
        "import matplotlib.pyplot as plt\n",
        "import pandas as pd"
      ],
      "metadata": {
        "id": "LNL1R7HQXGUc"
      },
      "execution_count": null,
      "outputs": []
    },
    {
      "cell_type": "code",
      "source": [
        "url = 'https://raw.githubusercontent.com/mwitiderrick/stockprice/master/NSE-TATAGLOBAL.csv'\n",
        "dataset_train = pd.read_csv(url)\n",
        "training_set = dataset_train.iloc[:,1:2].values"
      ],
      "metadata": {
        "id": "KOoLWkk5XL8c"
      },
      "execution_count": null,
      "outputs": []
    },
    {
      "cell_type": "code",
      "source": [
        "dataset_train.head()"
      ],
      "metadata": {
        "colab": {
          "base_uri": "https://localhost:8080/",
          "height": 206
        },
        "id": "_DhdP_S9XTbP",
        "outputId": "aae14629-2663-4ccb-fb00-a3690e4ad008"
      },
      "execution_count": null,
      "outputs": [
        {
          "output_type": "execute_result",
          "data": {
            "text/html": [
              "\n",
              "  <div id=\"df-89b9eb28-eaf6-48c6-9958-854c1d2cd113\">\n",
              "    <div class=\"colab-df-container\">\n",
              "      <div>\n",
              "<style scoped>\n",
              "    .dataframe tbody tr th:only-of-type {\n",
              "        vertical-align: middle;\n",
              "    }\n",
              "\n",
              "    .dataframe tbody tr th {\n",
              "        vertical-align: top;\n",
              "    }\n",
              "\n",
              "    .dataframe thead th {\n",
              "        text-align: right;\n",
              "    }\n",
              "</style>\n",
              "<table border=\"1\" class=\"dataframe\">\n",
              "  <thead>\n",
              "    <tr style=\"text-align: right;\">\n",
              "      <th></th>\n",
              "      <th>Date</th>\n",
              "      <th>Open</th>\n",
              "      <th>High</th>\n",
              "      <th>Low</th>\n",
              "      <th>Last</th>\n",
              "      <th>Close</th>\n",
              "      <th>Total Trade Quantity</th>\n",
              "      <th>Turnover (Lacs)</th>\n",
              "    </tr>\n",
              "  </thead>\n",
              "  <tbody>\n",
              "    <tr>\n",
              "      <th>0</th>\n",
              "      <td>2018-09-28</td>\n",
              "      <td>234.05</td>\n",
              "      <td>235.95</td>\n",
              "      <td>230.20</td>\n",
              "      <td>233.50</td>\n",
              "      <td>233.75</td>\n",
              "      <td>3069914</td>\n",
              "      <td>7162.35</td>\n",
              "    </tr>\n",
              "    <tr>\n",
              "      <th>1</th>\n",
              "      <td>2018-09-27</td>\n",
              "      <td>234.55</td>\n",
              "      <td>236.80</td>\n",
              "      <td>231.10</td>\n",
              "      <td>233.80</td>\n",
              "      <td>233.25</td>\n",
              "      <td>5082859</td>\n",
              "      <td>11859.95</td>\n",
              "    </tr>\n",
              "    <tr>\n",
              "      <th>2</th>\n",
              "      <td>2018-09-26</td>\n",
              "      <td>240.00</td>\n",
              "      <td>240.00</td>\n",
              "      <td>232.50</td>\n",
              "      <td>235.00</td>\n",
              "      <td>234.25</td>\n",
              "      <td>2240909</td>\n",
              "      <td>5248.60</td>\n",
              "    </tr>\n",
              "    <tr>\n",
              "      <th>3</th>\n",
              "      <td>2018-09-25</td>\n",
              "      <td>233.30</td>\n",
              "      <td>236.75</td>\n",
              "      <td>232.00</td>\n",
              "      <td>236.25</td>\n",
              "      <td>236.10</td>\n",
              "      <td>2349368</td>\n",
              "      <td>5503.90</td>\n",
              "    </tr>\n",
              "    <tr>\n",
              "      <th>4</th>\n",
              "      <td>2018-09-24</td>\n",
              "      <td>233.55</td>\n",
              "      <td>239.20</td>\n",
              "      <td>230.75</td>\n",
              "      <td>234.00</td>\n",
              "      <td>233.30</td>\n",
              "      <td>3423509</td>\n",
              "      <td>7999.55</td>\n",
              "    </tr>\n",
              "  </tbody>\n",
              "</table>\n",
              "</div>\n",
              "      <button class=\"colab-df-convert\" onclick=\"convertToInteractive('df-89b9eb28-eaf6-48c6-9958-854c1d2cd113')\"\n",
              "              title=\"Convert this dataframe to an interactive table.\"\n",
              "              style=\"display:none;\">\n",
              "        \n",
              "  <svg xmlns=\"http://www.w3.org/2000/svg\" height=\"24px\"viewBox=\"0 0 24 24\"\n",
              "       width=\"24px\">\n",
              "    <path d=\"M0 0h24v24H0V0z\" fill=\"none\"/>\n",
              "    <path d=\"M18.56 5.44l.94 2.06.94-2.06 2.06-.94-2.06-.94-.94-2.06-.94 2.06-2.06.94zm-11 1L8.5 8.5l.94-2.06 2.06-.94-2.06-.94L8.5 2.5l-.94 2.06-2.06.94zm10 10l.94 2.06.94-2.06 2.06-.94-2.06-.94-.94-2.06-.94 2.06-2.06.94z\"/><path d=\"M17.41 7.96l-1.37-1.37c-.4-.4-.92-.59-1.43-.59-.52 0-1.04.2-1.43.59L10.3 9.45l-7.72 7.72c-.78.78-.78 2.05 0 2.83L4 21.41c.39.39.9.59 1.41.59.51 0 1.02-.2 1.41-.59l7.78-7.78 2.81-2.81c.8-.78.8-2.07 0-2.86zM5.41 20L4 18.59l7.72-7.72 1.47 1.35L5.41 20z\"/>\n",
              "  </svg>\n",
              "      </button>\n",
              "      \n",
              "  <style>\n",
              "    .colab-df-container {\n",
              "      display:flex;\n",
              "      flex-wrap:wrap;\n",
              "      gap: 12px;\n",
              "    }\n",
              "\n",
              "    .colab-df-convert {\n",
              "      background-color: #E8F0FE;\n",
              "      border: none;\n",
              "      border-radius: 50%;\n",
              "      cursor: pointer;\n",
              "      display: none;\n",
              "      fill: #1967D2;\n",
              "      height: 32px;\n",
              "      padding: 0 0 0 0;\n",
              "      width: 32px;\n",
              "    }\n",
              "\n",
              "    .colab-df-convert:hover {\n",
              "      background-color: #E2EBFA;\n",
              "      box-shadow: 0px 1px 2px rgba(60, 64, 67, 0.3), 0px 1px 3px 1px rgba(60, 64, 67, 0.15);\n",
              "      fill: #174EA6;\n",
              "    }\n",
              "\n",
              "    [theme=dark] .colab-df-convert {\n",
              "      background-color: #3B4455;\n",
              "      fill: #D2E3FC;\n",
              "    }\n",
              "\n",
              "    [theme=dark] .colab-df-convert:hover {\n",
              "      background-color: #434B5C;\n",
              "      box-shadow: 0px 1px 3px 1px rgba(0, 0, 0, 0.15);\n",
              "      filter: drop-shadow(0px 1px 2px rgba(0, 0, 0, 0.3));\n",
              "      fill: #FFFFFF;\n",
              "    }\n",
              "  </style>\n",
              "\n",
              "      <script>\n",
              "        const buttonEl =\n",
              "          document.querySelector('#df-89b9eb28-eaf6-48c6-9958-854c1d2cd113 button.colab-df-convert');\n",
              "        buttonEl.style.display =\n",
              "          google.colab.kernel.accessAllowed ? 'block' : 'none';\n",
              "\n",
              "        async function convertToInteractive(key) {\n",
              "          const element = document.querySelector('#df-89b9eb28-eaf6-48c6-9958-854c1d2cd113');\n",
              "          const dataTable =\n",
              "            await google.colab.kernel.invokeFunction('convertToInteractive',\n",
              "                                                     [key], {});\n",
              "          if (!dataTable) return;\n",
              "\n",
              "          const docLinkHtml = 'Like what you see? Visit the ' +\n",
              "            '<a target=\"_blank\" href=https://colab.research.google.com/notebooks/data_table.ipynb>data table notebook</a>'\n",
              "            + ' to learn more about interactive tables.';\n",
              "          element.innerHTML = '';\n",
              "          dataTable['output_type'] = 'display_data';\n",
              "          await google.colab.output.renderOutput(dataTable, element);\n",
              "          const docLink = document.createElement('div');\n",
              "          docLink.innerHTML = docLinkHtml;\n",
              "          element.appendChild(docLink);\n",
              "        }\n",
              "      </script>\n",
              "    </div>\n",
              "  </div>\n",
              "  "
            ],
            "text/plain": [
              "         Date    Open    High     Low    Last   Close  Total Trade Quantity  \\\n",
              "0  2018-09-28  234.05  235.95  230.20  233.50  233.75               3069914   \n",
              "1  2018-09-27  234.55  236.80  231.10  233.80  233.25               5082859   \n",
              "2  2018-09-26  240.00  240.00  232.50  235.00  234.25               2240909   \n",
              "3  2018-09-25  233.30  236.75  232.00  236.25  236.10               2349368   \n",
              "4  2018-09-24  233.55  239.20  230.75  234.00  233.30               3423509   \n",
              "\n",
              "   Turnover (Lacs)  \n",
              "0          7162.35  \n",
              "1         11859.95  \n",
              "2          5248.60  \n",
              "3          5503.90  \n",
              "4          7999.55  "
            ]
          },
          "metadata": {},
          "execution_count": 3
        }
      ]
    },
    {
      "cell_type": "code",
      "source": [
        "data_close = dataset_train['Close']"
      ],
      "metadata": {
        "id": "DgMkMlu0XYYY"
      },
      "execution_count": null,
      "outputs": []
    },
    {
      "cell_type": "code",
      "source": [
        "data_close"
      ],
      "metadata": {
        "colab": {
          "base_uri": "https://localhost:8080/"
        },
        "id": "CpBzNtVEXb31",
        "outputId": "fd5ff844-1871-4875-94af-5f5ae3ce6ecc"
      },
      "execution_count": null,
      "outputs": [
        {
          "output_type": "execute_result",
          "data": {
            "text/plain": [
              "0       233.75\n",
              "1       233.25\n",
              "2       234.25\n",
              "3       236.10\n",
              "4       233.30\n",
              "         ...  \n",
              "2030    118.65\n",
              "2031    117.60\n",
              "2032    120.65\n",
              "2033    120.90\n",
              "2034    121.55\n",
              "Name: Close, Length: 2035, dtype: float64"
            ]
          },
          "metadata": {},
          "execution_count": 5
        }
      ]
    },
    {
      "cell_type": "code",
      "source": [
        "plt.plot(data_close)"
      ],
      "metadata": {
        "colab": {
          "base_uri": "https://localhost:8080/",
          "height": 282
        },
        "id": "EmkfJWnjXh06",
        "outputId": "2c491f13-6de6-4ed6-81f6-a0b555c10ce5"
      },
      "execution_count": null,
      "outputs": [
        {
          "output_type": "execute_result",
          "data": {
            "text/plain": [
              "[<matplotlib.lines.Line2D at 0x7ff79a9d8b90>]"
            ]
          },
          "metadata": {},
          "execution_count": 6
        },
        {
          "output_type": "display_data",
          "data": {
            "image/png": "[encoded data removed]",
            "text/plain": [
              "<Figure size 432x288 with 1 Axes>"
            ]
          },
          "metadata": {
            "needs_background": "light"
          }
        }
      ]
    },
    {
      "cell_type": "markdown",
      "source": [
        "Data Normalization"
      ],
      "metadata": {
        "id": "8QEnqwoqXkap"
      }
    },
    {
      "cell_type": "code",
      "source": [
        "from sklearn.preprocessing import MinMaxScaler\n",
        "scaler = MinMaxScaler(feature_range = (0,1))\n",
        "data_close = scaler.fit_transform(np.array(data_close).reshape(-1,1))"
      ],
      "metadata": {
        "id": "im55wMvxXoH-"
      },
      "execution_count": null,
      "outputs": []
    },
    {
      "cell_type": "code",
      "source": [
        "data_close.shape"
      ],
      "metadata": {
        "colab": {
          "base_uri": "https://localhost:8080/"
        },
        "id": "tM4TkAHpXuSo",
        "outputId": "cd21e3d8-800b-41b5-9970-c1de1c746139"
      },
      "execution_count": null,
      "outputs": [
        {
          "output_type": "execute_result",
          "data": {
            "text/plain": [
              "(2035, 1)"
            ]
          },
          "metadata": {},
          "execution_count": 8
        }
      ]
    },
    {
      "cell_type": "code",
      "source": [
        "print(data_close)"
      ],
      "metadata": {
        "colab": {
          "base_uri": "https://localhost:8080/"
        },
        "id": "oVm19bZPYB7L",
        "outputId": "43697e94-4893-4a38-a371-a49788ccff4c"
      },
      "execution_count": null,
      "outputs": [
        {
          "output_type": "stream",
          "name": "stdout",
          "text": [
            "[[0.62418301]\n",
            " [0.62214052]\n",
            " [0.62622549]\n",
            " ...\n",
            " [0.1621732 ]\n",
            " [0.16319444]\n",
            " [0.16584967]]\n"
          ]
        }
      ]
    },
    {
      "cell_type": "markdown",
      "source": [
        "Train and Test Split\n",
        "\n"
      ],
      "metadata": {
        "id": "jfwvVTzLYITD"
      }
    },
    {
      "cell_type": "code",
      "source": [
        "training_size = int(len(data_close)*0.75)\n",
        "test_size = len(data_close) - training_size\n",
        "train_data, test_data = data_close[0:training_size,:], data_close[training_size:len(data_close),:1]"
      ],
      "metadata": {
        "id": "_CGKqUxgYJRq"
      },
      "execution_count": null,
      "outputs": []
    },
    {
      "cell_type": "code",
      "source": [
        "def create_dataset(dataset, time_step = 1):\n",
        "    dataX, dataY = [], []\n",
        "    for i in range(len(dataset)- time_step - 1):\n",
        "        a = dataset[i:(i+time_step), 0]\n",
        "        dataX.append(a)\n",
        "        dataY.append(dataset[i+time_step, 0])\n",
        "    return np.array(dataX), np.array(dataY)"
      ],
      "metadata": {
        "id": "_rv30PHyYJ0H"
      },
      "execution_count": null,
      "outputs": []
    },
    {
      "cell_type": "code",
      "source": [
        "time_step = 100\n",
        "x_train, y_train = create_dataset(train_data, time_step)\n",
        "x_test, y_test = create_dataset(test_data, time_step)"
      ],
      "metadata": {
        "id": "rtdduDFsYVqz"
      },
      "execution_count": null,
      "outputs": []
    },
    {
      "cell_type": "code",
      "source": [
        "#Reshape the input to be [samples , time steps, features] which the requirement of LSTM\n",
        "x_train = x_train.reshape(x_train.shape[0], x_train.shape[1], 1)\n",
        "x_test = x_test.reshape(x_test.shape[0], x_test.shape[1], 1)"
      ],
      "metadata": {
        "id": "Y_sxI1HAYVnZ"
      },
      "execution_count": null,
      "outputs": []
    },
    {
      "cell_type": "code",
      "source": [
        "#create the LSTM Model\n",
        "from keras.models import Sequential\n",
        "from keras.layers import LSTM\n",
        "from keras.layers import Dropout\n",
        "from keras.layers import Dense\n",
        "model = Sequential()\n",
        "model.add(LSTM(50,return_sequences = True, input_shape = (100,1)))\n",
        "model.add(LSTM(50,return_sequences = True))\n",
        "model.add(LSTM(50))\n",
        "model.add(Dense(1))\n",
        "model.compile(loss = 'mean_squared_error', optimizer = 'adam')"
      ],
      "metadata": {
        "id": "RphRjHikYc5D"
      },
      "execution_count": null,
      "outputs": []
    },
    {
      "cell_type": "code",
      "source": [
        "model.summary()"
      ],
      "metadata": {
        "colab": {
          "base_uri": "https://localhost:8080/"
        },
        "id": "fIFQ1KWfYc2M",
        "outputId": "42af7dbf-c7ca-45aa-a0d9-0439c7ab1688"
      },
      "execution_count": null,
      "outputs": [
        {
          "output_type": "stream",
          "name": "stdout",
          "text": [
            "Model: \"sequential\"\n",
            "_________________________________________________________________\n",
            " Layer (type)                Output Shape              Param #   \n",
            "=================================================================\n",
            " lstm (LSTM)                 (None, 100, 50)           10400     \n",
            "                                                                 \n",
            " lstm_1 (LSTM)               (None, 100, 50)           20200     \n",
            "                                                                 \n",
            " lstm_2 (LSTM)               (None, 50)                20200     \n",
            "                                                                 \n",
            " dense (Dense)               (None, 1)                 51        \n",
            "                                                                 \n",
            "=================================================================\n",
            "Total params: 50,851\n",
            "Trainable params: 50,851\n",
            "Non-trainable params: 0\n",
            "_________________________________________________________________\n"
          ]
        }
      ]
    },
    {
      "cell_type": "code",
      "source": [
        "model.fit(x_train, y_train, validation_data = (x_test, y_test), epochs = 100, batch_size = 64, verbose = 1)"
      ],
      "metadata": {
        "colab": {
          "base_uri": "https://localhost:8080/"
        },
        "id": "D5NIiO0EYc0J",
        "outputId": "637790c8-8190-4c69-b790-c25aed19f92f"
      },
      "execution_count": null,
      "outputs": [
        {
          "output_type": "stream",
          "name": "stdout",
          "text": [
            "Epoch 1/100\n",
            "23/23 [==============================] - 12s 232ms/step - loss: 0.0308 - val_loss: 0.0086\n",
            "Epoch 2/100\n",
            "23/23 [==============================] - 4s 176ms/step - loss: 0.0028 - val_loss: 0.0015\n",
            "Epoch 3/100\n",
            "23/23 [==============================] - 4s 177ms/step - loss: 0.0015 - val_loss: 0.0020\n",
            "Epoch 4/100\n",
            "23/23 [==============================] - 4s 178ms/step - loss: 0.0015 - val_loss: 0.0016\n",
            "Epoch 5/100\n",
            "23/23 [==============================] - 6s 253ms/step - loss: 0.0015 - val_loss: 0.0017\n",
            "Epoch 6/100\n",
            "23/23 [==============================] - 6s 255ms/step - loss: 0.0013 - val_loss: 0.0016\n",
            "Epoch 7/100\n",
            "23/23 [==============================] - 4s 181ms/step - loss: 0.0013 - val_loss: 0.0013\n",
            "Epoch 8/100\n",
            "23/23 [==============================] - 4s 180ms/step - loss: 0.0012 - val_loss: 0.0013\n",
            "Epoch 9/100\n",
            "23/23 [==============================] - 4s 179ms/step - loss: 0.0012 - val_loss: 0.0014\n",
            "Epoch 10/100\n",
            "23/23 [==============================] - 4s 185ms/step - loss: 0.0011 - val_loss: 7.8383e-04\n",
            "Epoch 11/100\n",
            "23/23 [==============================] - 4s 180ms/step - loss: 0.0012 - val_loss: 0.0012\n",
            "Epoch 12/100\n",
            "23/23 [==============================] - 4s 182ms/step - loss: 0.0011 - val_loss: 8.8568e-04\n",
            "Epoch 13/100\n",
            "23/23 [==============================] - 4s 172ms/step - loss: 9.7859e-04 - val_loss: 8.6340e-04\n",
            "Epoch 14/100\n",
            "23/23 [==============================] - 4s 179ms/step - loss: 9.4557e-04 - val_loss: 9.3120e-04\n",
            "Epoch 15/100\n",
            "23/23 [==============================] - 4s 181ms/step - loss: 8.9372e-04 - val_loss: 7.9046e-04\n",
            "Epoch 16/100\n",
            "23/23 [==============================] - 4s 178ms/step - loss: 8.7374e-04 - val_loss: 7.7667e-04\n",
            "Epoch 17/100\n",
            "23/23 [==============================] - 4s 177ms/step - loss: 8.6151e-04 - val_loss: 5.4741e-04\n",
            "Epoch 18/100\n",
            "23/23 [==============================] - 4s 177ms/step - loss: 9.3582e-04 - val_loss: 9.0873e-04\n",
            "Epoch 19/100\n",
            "23/23 [==============================] - 4s 180ms/step - loss: 8.3038e-04 - val_loss: 6.8779e-04\n",
            "Epoch 20/100\n",
            "23/23 [==============================] - 4s 177ms/step - loss: 8.3039e-04 - val_loss: 9.6433e-04\n",
            "Epoch 21/100\n",
            "23/23 [==============================] - 4s 177ms/step - loss: 7.7208e-04 - val_loss: 8.1798e-04\n",
            "Epoch 22/100\n",
            "23/23 [==============================] - 4s 177ms/step - loss: 7.8236e-04 - val_loss: 5.9757e-04\n",
            "Epoch 23/100\n",
            "23/23 [==============================] - 5s 205ms/step - loss: 7.5168e-04 - val_loss: 7.0541e-04\n",
            "Epoch 24/100\n",
            "23/23 [==============================] - 4s 180ms/step - loss: 7.1816e-04 - val_loss: 6.6673e-04\n",
            "Epoch 25/100\n",
            "23/23 [==============================] - 4s 178ms/step - loss: 7.6906e-04 - val_loss: 5.8196e-04\n",
            "Epoch 26/100\n",
            "23/23 [==============================] - 4s 177ms/step - loss: 7.7239e-04 - val_loss: 7.5229e-04\n",
            "Epoch 27/100\n",
            "23/23 [==============================] - 4s 179ms/step - loss: 7.5269e-04 - val_loss: 9.2366e-04\n",
            "Epoch 28/100\n",
            "23/23 [==============================] - 4s 179ms/step - loss: 6.4740e-04 - val_loss: 8.4342e-04\n",
            "Epoch 29/100\n",
            "23/23 [==============================] - 4s 181ms/step - loss: 7.2368e-04 - val_loss: 9.2000e-04\n",
            "Epoch 30/100\n",
            "23/23 [==============================] - 4s 186ms/step - loss: 7.3521e-04 - val_loss: 0.0010\n",
            "Epoch 31/100\n",
            "23/23 [==============================] - 4s 178ms/step - loss: 6.5669e-04 - val_loss: 7.1533e-04\n",
            "Epoch 32/100\n",
            "23/23 [==============================] - 6s 248ms/step - loss: 6.6123e-04 - val_loss: 6.6869e-04\n",
            "Epoch 33/100\n",
            "23/23 [==============================] - 5s 225ms/step - loss: 5.9638e-04 - val_loss: 5.3940e-04\n",
            "Epoch 34/100\n",
            "23/23 [==============================] - 4s 176ms/step - loss: 5.8399e-04 - val_loss: 6.7361e-04\n",
            "Epoch 35/100\n",
            "23/23 [==============================] - 4s 176ms/step - loss: 6.0037e-04 - val_loss: 6.8671e-04\n",
            "Epoch 36/100\n",
            "23/23 [==============================] - 4s 176ms/step - loss: 5.6314e-04 - val_loss: 7.0672e-04\n",
            "Epoch 37/100\n",
            "23/23 [==============================] - 4s 179ms/step - loss: 5.6347e-04 - val_loss: 7.6788e-04\n",
            "Epoch 38/100\n",
            "23/23 [==============================] - 4s 178ms/step - loss: 6.4708e-04 - val_loss: 7.2262e-04\n",
            "Epoch 39/100\n",
            "23/23 [==============================] - 5s 218ms/step - loss: 5.8442e-04 - val_loss: 6.2146e-04\n",
            "Epoch 40/100\n",
            "23/23 [==============================] - 6s 260ms/step - loss: 5.5226e-04 - val_loss: 5.8249e-04\n",
            "Epoch 41/100\n",
            "23/23 [==============================] - 4s 174ms/step - loss: 5.4467e-04 - val_loss: 6.1232e-04\n",
            "Epoch 42/100\n",
            "23/23 [==============================] - 4s 174ms/step - loss: 6.1694e-04 - val_loss: 5.4056e-04\n",
            "Epoch 43/100\n",
            "23/23 [==============================] - 4s 176ms/step - loss: 5.5695e-04 - val_loss: 6.5963e-04\n",
            "Epoch 44/100\n",
            "23/23 [==============================] - 4s 175ms/step - loss: 5.1795e-04 - val_loss: 6.9055e-04\n",
            "Epoch 45/100\n",
            "23/23 [==============================] - 5s 230ms/step - loss: 4.9424e-04 - val_loss: 5.6994e-04\n",
            "Epoch 46/100\n",
            "23/23 [==============================] - 5s 213ms/step - loss: 4.9504e-04 - val_loss: 5.6623e-04\n",
            "Epoch 47/100\n",
            "23/23 [==============================] - 4s 186ms/step - loss: 5.2377e-04 - val_loss: 6.1385e-04\n",
            "Epoch 48/100\n",
            "23/23 [==============================] - 4s 182ms/step - loss: 4.5586e-04 - val_loss: 5.5221e-04\n",
            "Epoch 49/100\n",
            "23/23 [==============================] - 4s 181ms/step - loss: 4.5085e-04 - val_loss: 4.3171e-04\n",
            "Epoch 50/100\n",
            "23/23 [==============================] - 4s 175ms/step - loss: 4.4738e-04 - val_loss: 5.0876e-04\n",
            "Epoch 51/100\n",
            "23/23 [==============================] - 4s 178ms/step - loss: 4.5435e-04 - val_loss: 4.7490e-04\n",
            "Epoch 52/100\n",
            "23/23 [==============================] - 4s 182ms/step - loss: 4.8083e-04 - val_loss: 4.8071e-04\n",
            "Epoch 53/100\n",
            "23/23 [==============================] - 4s 177ms/step - loss: 4.2094e-04 - val_loss: 4.3690e-04\n",
            "Epoch 54/100\n",
            "23/23 [==============================] - 4s 176ms/step - loss: 4.4519e-04 - val_loss: 5.2657e-04\n",
            "Epoch 55/100\n",
            "23/23 [==============================] - 4s 177ms/step - loss: 4.8121e-04 - val_loss: 4.5282e-04\n",
            "Epoch 56/100\n",
            "23/23 [==============================] - 4s 177ms/step - loss: 4.1149e-04 - val_loss: 4.2671e-04\n",
            "Epoch 57/100\n",
            "23/23 [==============================] - 4s 179ms/step - loss: 4.6091e-04 - val_loss: 2.8326e-04\n",
            "Epoch 58/100\n",
            "23/23 [==============================] - 4s 177ms/step - loss: 4.0748e-04 - val_loss: 3.8139e-04\n",
            "Epoch 59/100\n",
            "23/23 [==============================] - 4s 175ms/step - loss: 3.8212e-04 - val_loss: 3.2579e-04\n",
            "Epoch 60/100\n",
            "23/23 [==============================] - 4s 179ms/step - loss: 3.6073e-04 - val_loss: 3.5284e-04\n",
            "Epoch 61/100\n",
            "23/23 [==============================] - 4s 178ms/step - loss: 3.4228e-04 - val_loss: 3.0893e-04\n",
            "Epoch 62/100\n",
            "23/23 [==============================] - 4s 176ms/step - loss: 3.2864e-04 - val_loss: 2.9637e-04\n",
            "Epoch 63/100\n",
            "23/23 [==============================] - 4s 175ms/step - loss: 3.3540e-04 - val_loss: 3.5090e-04\n",
            "Epoch 64/100\n",
            "23/23 [==============================] - 4s 176ms/step - loss: 3.4421e-04 - val_loss: 3.8737e-04\n",
            "Epoch 65/100\n",
            "23/23 [==============================] - 4s 181ms/step - loss: 3.9853e-04 - val_loss: 2.8516e-04\n",
            "Epoch 66/100\n",
            "23/23 [==============================] - 4s 180ms/step - loss: 3.3868e-04 - val_loss: 4.8004e-04\n",
            "Epoch 67/100\n",
            "23/23 [==============================] - 4s 192ms/step - loss: 3.0470e-04 - val_loss: 3.9191e-04\n",
            "Epoch 68/100\n",
            "23/23 [==============================] - 4s 194ms/step - loss: 3.2389e-04 - val_loss: 2.8530e-04\n",
            "Epoch 69/100\n",
            "23/23 [==============================] - 5s 206ms/step - loss: 3.7602e-04 - val_loss: 2.1546e-04\n",
            "Epoch 70/100\n",
            "23/23 [==============================] - 4s 187ms/step - loss: 2.9216e-04 - val_loss: 3.1473e-04\n",
            "Epoch 71/100\n",
            "23/23 [==============================] - 4s 189ms/step - loss: 3.0605e-04 - val_loss: 2.5304e-04\n",
            "Epoch 72/100\n",
            "23/23 [==============================] - 4s 187ms/step - loss: 3.7612e-04 - val_loss: 3.4204e-04\n",
            "Epoch 73/100\n",
            "23/23 [==============================] - 5s 202ms/step - loss: 3.3105e-04 - val_loss: 3.6976e-04\n",
            "Epoch 74/100\n",
            "23/23 [==============================] - 4s 189ms/step - loss: 2.7356e-04 - val_loss: 2.9887e-04\n",
            "Epoch 75/100\n",
            "23/23 [==============================] - 4s 187ms/step - loss: 2.6050e-04 - val_loss: 2.9024e-04\n",
            "Epoch 76/100\n",
            "23/23 [==============================] - 4s 186ms/step - loss: 2.5236e-04 - val_loss: 4.5904e-04\n",
            "Epoch 77/100\n",
            "23/23 [==============================] - 4s 187ms/step - loss: 2.9128e-04 - val_loss: 3.0435e-04\n",
            "Epoch 78/100\n",
            "23/23 [==============================] - 4s 186ms/step - loss: 2.4312e-04 - val_loss: 2.6774e-04\n",
            "Epoch 79/100\n",
            "23/23 [==============================] - 4s 189ms/step - loss: 2.8226e-04 - val_loss: 3.1985e-04\n",
            "Epoch 80/100\n",
            "23/23 [==============================] - 4s 187ms/step - loss: 2.9272e-04 - val_loss: 2.2178e-04\n",
            "Epoch 81/100\n",
            "23/23 [==============================] - 4s 190ms/step - loss: 2.4709e-04 - val_loss: 2.3309e-04\n",
            "Epoch 82/100\n",
            "23/23 [==============================] - 5s 202ms/step - loss: 2.4842e-04 - val_loss: 2.0903e-04\n",
            "Epoch 83/100\n",
            "23/23 [==============================] - 7s 298ms/step - loss: 2.3304e-04 - val_loss: 2.1603e-04\n",
            "Epoch 84/100\n",
            "23/23 [==============================] - 4s 191ms/step - loss: 2.4271e-04 - val_loss: 2.4366e-04\n",
            "Epoch 85/100\n",
            "23/23 [==============================] - 4s 190ms/step - loss: 2.7182e-04 - val_loss: 3.3718e-04\n",
            "Epoch 86/100\n",
            "23/23 [==============================] - 4s 193ms/step - loss: 2.6848e-04 - val_loss: 1.8922e-04\n",
            "Epoch 87/100\n",
            "23/23 [==============================] - 4s 188ms/step - loss: 2.2446e-04 - val_loss: 1.9263e-04\n",
            "Epoch 88/100\n",
            "23/23 [==============================] - 4s 188ms/step - loss: 2.4875e-04 - val_loss: 1.8584e-04\n",
            "Epoch 89/100\n",
            "23/23 [==============================] - 4s 189ms/step - loss: 2.1910e-04 - val_loss: 1.7043e-04\n",
            "Epoch 90/100\n",
            "23/23 [==============================] - 4s 189ms/step - loss: 2.1901e-04 - val_loss: 1.8997e-04\n",
            "Epoch 91/100\n",
            "23/23 [==============================] - 4s 188ms/step - loss: 2.1395e-04 - val_loss: 1.7593e-04\n",
            "Epoch 92/100\n",
            "23/23 [==============================] - 4s 192ms/step - loss: 2.0827e-04 - val_loss: 2.3755e-04\n",
            "Epoch 93/100\n",
            "23/23 [==============================] - 4s 191ms/step - loss: 2.2373e-04 - val_loss: 1.5996e-04\n",
            "Epoch 94/100\n",
            "23/23 [==============================] - 4s 192ms/step - loss: 2.2682e-04 - val_loss: 1.5186e-04\n",
            "Epoch 95/100\n",
            "23/23 [==============================] - 4s 189ms/step - loss: 2.4358e-04 - val_loss: 2.6067e-04\n",
            "Epoch 96/100\n",
            "23/23 [==============================] - 4s 192ms/step - loss: 2.1980e-04 - val_loss: 1.7222e-04\n",
            "Epoch 97/100\n",
            "23/23 [==============================] - 4s 191ms/step - loss: 2.4579e-04 - val_loss: 2.1665e-04\n",
            "Epoch 98/100\n",
            "23/23 [==============================] - 4s 191ms/step - loss: 2.2274e-04 - val_loss: 2.4495e-04\n",
            "Epoch 99/100\n",
            "23/23 [==============================] - 4s 194ms/step - loss: 1.9724e-04 - val_loss: 1.9171e-04\n",
            "Epoch 100/100\n",
            "23/23 [==============================] - 4s 190ms/step - loss: 2.0744e-04 - val_loss: 1.4070e-04\n"
          ]
        },
        {
          "output_type": "execute_result",
          "data": {
            "text/plain": [
              "<keras.callbacks.History at 0x7ff78bb510d0>"
            ]
          },
          "metadata": {},
          "execution_count": 16
        }
      ]
    },
    {
      "cell_type": "code",
      "source": [
        "#lets predict and check performance matrices\n",
        "train_predict = model.predict(x_train)\n",
        "test_predict = model.predict(x_test)"
      ],
      "metadata": {
        "id": "X8V0JQLQYwXq"
      },
      "execution_count": null,
      "outputs": []
    },
    {
      "cell_type": "code",
      "source": [
        "#transform back to original form\n",
        "train_predict = scaler.inverse_transform(train_predict)\n",
        "test_predict = scaler.inverse_transform(test_predict)"
      ],
      "metadata": {
        "id": "OeZksqPnZL2q"
      },
      "execution_count": null,
      "outputs": []
    },
    {
      "cell_type": "code",
      "source": [
        "#calculate RMSE performance matrices\n",
        "import math\n",
        "from sklearn.metrics import mean_squared_error\n",
        "math.sqrt(mean_squared_error(y_train, train_predict))"
      ],
      "metadata": {
        "colab": {
          "base_uri": "https://localhost:8080/"
        },
        "id": "wBR6NSXeaBEs",
        "outputId": "8c4acb97-42c4-4613-c323-7cbbebe3014e"
      },
      "execution_count": null,
      "outputs": [
        {
          "output_type": "execute_result",
          "data": {
            "text/plain": [
              "162.07926331167744"
            ]
          },
          "metadata": {},
          "execution_count": 19
        }
      ]
    },
    {
      "cell_type": "code",
      "source": [
        "#test data RMSE\n",
        "math.sqrt(mean_squared_error(y_test, test_predict))"
      ],
      "metadata": {
        "colab": {
          "base_uri": "https://localhost:8080/"
        },
        "id": "5v5LmtkNaI7T",
        "outputId": "24ab055b-8e79-412e-9885-9c6d0ad639aa"
      },
      "execution_count": null,
      "outputs": [
        {
          "output_type": "execute_result",
          "data": {
            "text/plain": [
              "104.48044503254718"
            ]
          },
          "metadata": {},
          "execution_count": 20
        }
      ]
    },
    {
      "cell_type": "code",
      "source": [
        "#plotting\n",
        "\n",
        "#Shift train prediction for plotting\n",
        "look_back = 100\n",
        "trainPredictPlot = np.empty_like(data_close)\n",
        "trainPredictPlot[:,:] = np.nan\n",
        "trainPredictPlot[look_back:len(train_predict) + look_back, :]= train_predict\n",
        "\n",
        "#Shift train prediction for plotting\n",
        "testPredictPlot = np.empty_like(data_close)\n",
        "testPredictPlot[:,:] = np.nan\n",
        "testPredictPlot[len(train_predict) + (look_back * 2) + 1:len (data_close) - 1, :]=test_predict\n",
        "\n",
        "#Plot baseline and predictions\n",
        "plt.plot(scaler.inverse_transform(data_close))\n",
        "plt.plot(trainPredictPlot)\n",
        "plt.plot(testPredictPlot)\n",
        "plt.show()"
      ],
      "metadata": {
        "colab": {
          "base_uri": "https://localhost:8080/",
          "height": 265
        },
        "id": "nLlJMl6Kad_z",
        "outputId": "8ae224f9-c401-441f-c4a4-a82b3b8780a4"
      },
      "execution_count": null,
      "outputs": [
        {
          "output_type": "display_data",
          "data": {
            "image/png": "[encoded data removed]",
            "text/plain": [
              "<Figure size 432x288 with 1 Axes>"
            ]
          },
          "metadata": {
            "needs_background": "light"
          }
        }
      ]
    },
    {
      "cell_type": "markdown",
      "source": [
        "Predict the next 30 days Stock Price"
      ],
      "metadata": {
        "id": "pEdnx6WCbDfg"
      }
    },
    {
      "cell_type": "code",
      "source": [
        "len(test_data), x_test.shape"
      ],
      "metadata": {
        "colab": {
          "base_uri": "https://localhost:8080/"
        },
        "id": "mAygwUoebEaq",
        "outputId": "eb2ffa37-f310-4501-e811-d0a812c8bed6"
      },
      "execution_count": null,
      "outputs": [
        {
          "output_type": "execute_result",
          "data": {
            "text/plain": [
              "(509, (408, 100, 1))"
            ]
          },
          "metadata": {},
          "execution_count": 25
        }
      ]
    },
    {
      "cell_type": "code",
      "source": [
        "x_input = test_data[409:].reshape(1,-1)\n",
        "x_input.shape"
      ],
      "metadata": {
        "colab": {
          "base_uri": "https://localhost:8080/"
        },
        "id": "rCOXRhz4a-De",
        "outputId": "9a8340bd-727c-4781-d478-a0ae3534f837"
      },
      "execution_count": null,
      "outputs": [
        {
          "output_type": "execute_result",
          "data": {
            "text/plain": [
              "(1, 100)"
            ]
          },
          "metadata": {},
          "execution_count": 26
        }
      ]
    },
    {
      "cell_type": "code",
      "source": [
        "temp_input = list (x_input)\n",
        "temp_input = temp_input[0].tolist()"
      ],
      "metadata": {
        "id": "zbQKEe95bWIG"
      },
      "execution_count": null,
      "outputs": []
    },
    {
      "cell_type": "code",
      "source": [
        "first_output =[]\n",
        "n_steps = 100\n",
        "nextNumberOfDays = 30\n",
        "i = 0\n",
        "\n",
        "while (i<nextNumberOfDays):\n",
        "\n",
        "  if(len(temp_input)>100):\n",
        "    x_input = np.array(temp_input[1:])\n",
        "    print(\"{}day input{}\".format(i, x_input))\n",
        "    x_input = x_input.reshape(1,-1)\n",
        "    x_input = x_input.reshape((1, n_steps, 1))\n",
        "    yhat = model.predict(x_input, verbose = 0)\n",
        "    print(\"{} day output {}\".format(i,yhat))\n",
        "    temp_input.extend(yhat[0].tolist())\n",
        "    temp_input = temp_input[1:]\n",
        "    first_output.extend(yhat.tolist())\n",
        "    i=i+1\n",
        "  else:\n",
        "    x_input = x_input.reshape((1, n_steps, 1))\n",
        "    yhat = model.predict(x_input, verbose = 0)\n",
        "    print(yhat[0])\n",
        "    temp_input.extend(yhat[0].tolist())\n",
        "    print(len(temp_input))\n",
        "    first_output.extend(yhat.tolist())\n",
        "    i = i + 1\n",
        "\n",
        "print(first_output)"
      ],
      "metadata": {
        "colab": {
          "base_uri": "https://localhost:8080/"
        },
        "id": "95RWX6-Vba8P",
        "outputId": "e2b12f3b-dc0b-4419-e01c-25cad40d36c0"
      },
      "execution_count": null,
      "outputs": [
        {
          "output_type": "stream",
          "name": "stdout",
          "text": [
            "[0.1613217]\n",
            "101\n",
            "1day input[0.13848039 0.14011438 0.13888889 0.13541667 0.14011438 0.1380719\n",
            " 0.13071895 0.13071895 0.12867647 0.11846405 0.14644608 0.14808007\n",
            " 0.15910948 0.15992647 0.15788399 0.16441993 0.17892157 0.17933007\n",
            " 0.19260621 0.20812908 0.18974673 0.18055556 0.18239379 0.17708333\n",
            " 0.17810458 0.18055556 0.17810458 0.17851307 0.19607843 0.18913399\n",
            " 0.18954248 0.19403595 0.19444444 0.20200163 0.19771242 0.19934641\n",
            " 0.19873366 0.1997549  0.2128268  0.21568627 0.20445261 0.21772876\n",
            " 0.21098856 0.21425654 0.19750817 0.18811275 0.17851307 0.17381536\n",
            " 0.16033497 0.16564542 0.17116013 0.17422386 0.18035131 0.17401961\n",
            " 0.16278595 0.16973039 0.17810458 0.17034314 0.16830065 0.17279412\n",
            " 0.17544935 0.18382353 0.19138072 0.18913399 0.19097222 0.17238562\n",
            " 0.16830065 0.1693219  0.17177288 0.16156046 0.14971405 0.1503268\n",
            " 0.15196078 0.14726307 0.14501634 0.14603758 0.12479575 0.13112745\n",
            " 0.11397059 0.1190768  0.12377451 0.13562092 0.12908497 0.13459967\n",
            " 0.12806373 0.13031046 0.12724673 0.13521242 0.14522059 0.15257353\n",
            " 0.14848856 0.14338235 0.14562908 0.15236928 0.15400327 0.14971405\n",
            " 0.1621732  0.16319444 0.16584967 0.1613217 ]\n",
            "1 day output [[0.16110852]]\n",
            "2day input[0.14011438 0.13888889 0.13541667 0.14011438 0.1380719  0.13071895\n",
            " 0.13071895 0.12867647 0.11846405 0.14644608 0.14808007 0.15910948\n",
            " 0.15992647 0.15788399 0.16441993 0.17892157 0.17933007 0.19260621\n",
            " 0.20812908 0.18974673 0.18055556 0.18239379 0.17708333 0.17810458\n",
            " 0.18055556 0.17810458 0.17851307 0.19607843 0.18913399 0.18954248\n",
            " 0.19403595 0.19444444 0.20200163 0.19771242 0.19934641 0.19873366\n",
            " 0.1997549  0.2128268  0.21568627 0.20445261 0.21772876 0.21098856\n",
            " 0.21425654 0.19750817 0.18811275 0.17851307 0.17381536 0.16033497\n",
            " 0.16564542 0.17116013 0.17422386 0.18035131 0.17401961 0.16278595\n",
            " 0.16973039 0.17810458 0.17034314 0.16830065 0.17279412 0.17544935\n",
            " 0.18382353 0.19138072 0.18913399 0.19097222 0.17238562 0.16830065\n",
            " 0.1693219  0.17177288 0.16156046 0.14971405 0.1503268  0.15196078\n",
            " 0.14726307 0.14501634 0.14603758 0.12479575 0.13112745 0.11397059\n",
            " 0.1190768  0.12377451 0.13562092 0.12908497 0.13459967 0.12806373\n",
            " 0.13031046 0.12724673 0.13521242 0.14522059 0.15257353 0.14848856\n",
            " 0.14338235 0.14562908 0.15236928 0.15400327 0.14971405 0.1621732\n",
            " 0.16319444 0.16584967 0.1613217  0.16110852]\n",
            "2 day output [[0.15942828]]\n",
            "3day input[0.13888889 0.13541667 0.14011438 0.1380719  0.13071895 0.13071895\n",
            " 0.12867647 0.11846405 0.14644608 0.14808007 0.15910948 0.15992647\n",
            " 0.15788399 0.16441993 0.17892157 0.17933007 0.19260621 0.20812908\n",
            " 0.18974673 0.18055556 0.18239379 0.17708333 0.17810458 0.18055556\n",
            " 0.17810458 0.17851307 0.19607843 0.18913399 0.18954248 0.19403595\n",
            " 0.19444444 0.20200163 0.19771242 0.19934641 0.19873366 0.1997549\n",
            " 0.2128268  0.21568627 0.20445261 0.21772876 0.21098856 0.21425654\n",
            " 0.19750817 0.18811275 0.17851307 0.17381536 0.16033497 0.16564542\n",
            " 0.17116013 0.17422386 0.18035131 0.17401961 0.16278595 0.16973039\n",
            " 0.17810458 0.17034314 0.16830065 0.17279412 0.17544935 0.18382353\n",
            " 0.19138072 0.18913399 0.19097222 0.17238562 0.16830065 0.1693219\n",
            " 0.17177288 0.16156046 0.14971405 0.1503268  0.15196078 0.14726307\n",
            " 0.14501634 0.14603758 0.12479575 0.13112745 0.11397059 0.1190768\n",
            " 0.12377451 0.13562092 0.12908497 0.13459967 0.12806373 0.13031046\n",
            " 0.12724673 0.13521242 0.14522059 0.15257353 0.14848856 0.14338235\n",
            " 0.14562908 0.15236928 0.15400327 0.14971405 0.1621732  0.16319444\n",
            " 0.16584967 0.1613217  0.16110852 0.15942828]\n",
            "3 day output [[0.15730068]]\n",
            "4day input[0.13541667 0.14011438 0.1380719  0.13071895 0.13071895 0.12867647\n",
            " 0.11846405 0.14644608 0.14808007 0.15910948 0.15992647 0.15788399\n",
            " 0.16441993 0.17892157 0.17933007 0.19260621 0.20812908 0.18974673\n",
            " 0.18055556 0.18239379 0.17708333 0.17810458 0.18055556 0.17810458\n",
            " 0.17851307 0.19607843 0.18913399 0.18954248 0.19403595 0.19444444\n",
            " 0.20200163 0.19771242 0.19934641 0.19873366 0.1997549  0.2128268\n",
            " 0.21568627 0.20445261 0.21772876 0.21098856 0.21425654 0.19750817\n",
            " 0.18811275 0.17851307 0.17381536 0.16033497 0.16564542 0.17116013\n",
            " 0.17422386 0.18035131 0.17401961 0.16278595 0.16973039 0.17810458\n",
            " 0.17034314 0.16830065 0.17279412 0.17544935 0.18382353 0.19138072\n",
            " 0.18913399 0.19097222 0.17238562 0.16830065 0.1693219  0.17177288\n",
            " 0.16156046 0.14971405 0.1503268  0.15196078 0.14726307 0.14501634\n",
            " 0.14603758 0.12479575 0.13112745 0.11397059 0.1190768  0.12377451\n",
            " 0.13562092 0.12908497 0.13459967 0.12806373 0.13031046 0.12724673\n",
            " 0.13521242 0.14522059 0.15257353 0.14848856 0.14338235 0.14562908\n",
            " 0.15236928 0.15400327 0.14971405 0.1621732  0.16319444 0.16584967\n",
            " 0.1613217  0.16110852 0.15942828 0.15730068]\n",
            "4 day output [[0.15507333]]\n",
            "5day input[0.14011438 0.1380719  0.13071895 0.13071895 0.12867647 0.11846405\n",
            " 0.14644608 0.14808007 0.15910948 0.15992647 0.15788399 0.16441993\n",
            " 0.17892157 0.17933007 0.19260621 0.20812908 0.18974673 0.18055556\n",
            " 0.18239379 0.17708333 0.17810458 0.18055556 0.17810458 0.17851307\n",
            " 0.19607843 0.18913399 0.18954248 0.19403595 0.19444444 0.20200163\n",
            " 0.19771242 0.19934641 0.19873366 0.1997549  0.2128268  0.21568627\n",
            " 0.20445261 0.21772876 0.21098856 0.21425654 0.19750817 0.18811275\n",
            " 0.17851307 0.17381536 0.16033497 0.16564542 0.17116013 0.17422386\n",
            " 0.18035131 0.17401961 0.16278595 0.16973039 0.17810458 0.17034314\n",
            " 0.16830065 0.17279412 0.17544935 0.18382353 0.19138072 0.18913399\n",
            " 0.19097222 0.17238562 0.16830065 0.1693219  0.17177288 0.16156046\n",
            " 0.14971405 0.1503268  0.15196078 0.14726307 0.14501634 0.14603758\n",
            " 0.12479575 0.13112745 0.11397059 0.1190768  0.12377451 0.13562092\n",
            " 0.12908497 0.13459967 0.12806373 0.13031046 0.12724673 0.13521242\n",
            " 0.14522059 0.15257353 0.14848856 0.14338235 0.14562908 0.15236928\n",
            " 0.15400327 0.14971405 0.1621732  0.16319444 0.16584967 0.1613217\n",
            " 0.16110852 0.15942828 0.15730068 0.15507333]\n",
            "5 day output [[0.15291339]]\n",
            "6day input[0.1380719  0.13071895 0.13071895 0.12867647 0.11846405 0.14644608\n",
            " 0.14808007 0.15910948 0.15992647 0.15788399 0.16441993 0.17892157\n",
            " 0.17933007 0.19260621 0.20812908 0.18974673 0.18055556 0.18239379\n",
            " 0.17708333 0.17810458 0.18055556 0.17810458 0.17851307 0.19607843\n",
            " 0.18913399 0.18954248 0.19403595 0.19444444 0.20200163 0.19771242\n",
            " 0.19934641 0.19873366 0.1997549  0.2128268  0.21568627 0.20445261\n",
            " 0.21772876 0.21098856 0.21425654 0.19750817 0.18811275 0.17851307\n",
            " 0.17381536 0.16033497 0.16564542 0.17116013 0.17422386 0.18035131\n",
            " 0.17401961 0.16278595 0.16973039 0.17810458 0.17034314 0.16830065\n",
            " 0.17279412 0.17544935 0.18382353 0.19138072 0.18913399 0.19097222\n",
            " 0.17238562 0.16830065 0.1693219  0.17177288 0.16156046 0.14971405\n",
            " 0.1503268  0.15196078 0.14726307 0.14501634 0.14603758 0.12479575\n",
            " 0.13112745 0.11397059 0.1190768  0.12377451 0.13562092 0.12908497\n",
            " 0.13459967 0.12806373 0.13031046 0.12724673 0.13521242 0.14522059\n",
            " 0.15257353 0.14848856 0.14338235 0.14562908 0.15236928 0.15400327\n",
            " 0.14971405 0.1621732  0.16319444 0.16584967 0.1613217  0.16110852\n",
            " 0.15942828 0.15730068 0.15507333 0.15291339]\n",
            "6 day output [[0.1509156]]\n",
            "7day input[0.13071895 0.13071895 0.12867647 0.11846405 0.14644608 0.14808007\n",
            " 0.15910948 0.15992647 0.15788399 0.16441993 0.17892157 0.17933007\n",
            " 0.19260621 0.20812908 0.18974673 0.18055556 0.18239379 0.17708333\n",
            " 0.17810458 0.18055556 0.17810458 0.17851307 0.19607843 0.18913399\n",
            " 0.18954248 0.19403595 0.19444444 0.20200163 0.19771242 0.19934641\n",
            " 0.19873366 0.1997549  0.2128268  0.21568627 0.20445261 0.21772876\n",
            " 0.21098856 0.21425654 0.19750817 0.18811275 0.17851307 0.17381536\n",
            " 0.16033497 0.16564542 0.17116013 0.17422386 0.18035131 0.17401961\n",
            " 0.16278595 0.16973039 0.17810458 0.17034314 0.16830065 0.17279412\n",
            " 0.17544935 0.18382353 0.19138072 0.18913399 0.19097222 0.17238562\n",
            " 0.16830065 0.1693219  0.17177288 0.16156046 0.14971405 0.1503268\n",
            " 0.15196078 0.14726307 0.14501634 0.14603758 0.12479575 0.13112745\n",
            " 0.11397059 0.1190768  0.12377451 0.13562092 0.12908497 0.13459967\n",
            " 0.12806373 0.13031046 0.12724673 0.13521242 0.14522059 0.15257353\n",
            " 0.14848856 0.14338235 0.14562908 0.15236928 0.15400327 0.14971405\n",
            " 0.1621732  0.16319444 0.16584967 0.1613217  0.16110852 0.15942828\n",
            " 0.15730068 0.15507333 0.15291339 0.15091559]\n",
            "7 day output [[0.14912298]]\n",
            "8day input[0.13071895 0.12867647 0.11846405 0.14644608 0.14808007 0.15910948\n",
            " 0.15992647 0.15788399 0.16441993 0.17892157 0.17933007 0.19260621\n",
            " 0.20812908 0.18974673 0.18055556 0.18239379 0.17708333 0.17810458\n",
            " 0.18055556 0.17810458 0.17851307 0.19607843 0.18913399 0.18954248\n",
            " 0.19403595 0.19444444 0.20200163 0.19771242 0.19934641 0.19873366\n",
            " 0.1997549  0.2128268  0.21568627 0.20445261 0.21772876 0.21098856\n",
            " 0.21425654 0.19750817 0.18811275 0.17851307 0.17381536 0.16033497\n",
            " 0.16564542 0.17116013 0.17422386 0.18035131 0.17401961 0.16278595\n",
            " 0.16973039 0.17810458 0.17034314 0.16830065 0.17279412 0.17544935\n",
            " 0.18382353 0.19138072 0.18913399 0.19097222 0.17238562 0.16830065\n",
            " 0.1693219  0.17177288 0.16156046 0.14971405 0.1503268  0.15196078\n",
            " 0.14726307 0.14501634 0.14603758 0.12479575 0.13112745 0.11397059\n",
            " 0.1190768  0.12377451 0.13562092 0.12908497 0.13459967 0.12806373\n",
            " 0.13031046 0.12724673 0.13521242 0.14522059 0.15257353 0.14848856\n",
            " 0.14338235 0.14562908 0.15236928 0.15400327 0.14971405 0.1621732\n",
            " 0.16319444 0.16584967 0.1613217  0.16110852 0.15942828 0.15730068\n",
            " 0.15507333 0.15291339 0.15091559 0.14912298]\n",
            "8 day output [[0.14753966]]\n",
            "9day input[0.12867647 0.11846405 0.14644608 0.14808007 0.15910948 0.15992647\n",
            " 0.15788399 0.16441993 0.17892157 0.17933007 0.19260621 0.20812908\n",
            " 0.18974673 0.18055556 0.18239379 0.17708333 0.17810458 0.18055556\n",
            " 0.17810458 0.17851307 0.19607843 0.18913399 0.18954248 0.19403595\n",
            " 0.19444444 0.20200163 0.19771242 0.19934641 0.19873366 0.1997549\n",
            " 0.2128268  0.21568627 0.20445261 0.21772876 0.21098856 0.21425654\n",
            " 0.19750817 0.18811275 0.17851307 0.17381536 0.16033497 0.16564542\n",
            " 0.17116013 0.17422386 0.18035131 0.17401961 0.16278595 0.16973039\n",
            " 0.17810458 0.17034314 0.16830065 0.17279412 0.17544935 0.18382353\n",
            " 0.19138072 0.18913399 0.19097222 0.17238562 0.16830065 0.1693219\n",
            " 0.17177288 0.16156046 0.14971405 0.1503268  0.15196078 0.14726307\n",
            " 0.14501634 0.14603758 0.12479575 0.13112745 0.11397059 0.1190768\n",
            " 0.12377451 0.13562092 0.12908497 0.13459967 0.12806373 0.13031046\n",
            " 0.12724673 0.13521242 0.14522059 0.15257353 0.14848856 0.14338235\n",
            " 0.14562908 0.15236928 0.15400327 0.14971405 0.1621732  0.16319444\n",
            " 0.16584967 0.1613217  0.16110852 0.15942828 0.15730068 0.15507333\n",
            " 0.15291339 0.15091559 0.14912298 0.14753966]\n",
            "9 day output [[0.14614403]]\n",
            "10day input[0.11846405 0.14644608 0.14808007 0.15910948 0.15992647 0.15788399\n",
            " 0.16441993 0.17892157 0.17933007 0.19260621 0.20812908 0.18974673\n",
            " 0.18055556 0.18239379 0.17708333 0.17810458 0.18055556 0.17810458\n",
            " 0.17851307 0.19607843 0.18913399 0.18954248 0.19403595 0.19444444\n",
            " 0.20200163 0.19771242 0.19934641 0.19873366 0.1997549  0.2128268\n",
            " 0.21568627 0.20445261 0.21772876 0.21098856 0.21425654 0.19750817\n",
            " 0.18811275 0.17851307 0.17381536 0.16033497 0.16564542 0.17116013\n",
            " 0.17422386 0.18035131 0.17401961 0.16278595 0.16973039 0.17810458\n",
            " 0.17034314 0.16830065 0.17279412 0.17544935 0.18382353 0.19138072\n",
            " 0.18913399 0.19097222 0.17238562 0.16830065 0.1693219  0.17177288\n",
            " 0.16156046 0.14971405 0.1503268  0.15196078 0.14726307 0.14501634\n",
            " 0.14603758 0.12479575 0.13112745 0.11397059 0.1190768  0.12377451\n",
            " 0.13562092 0.12908497 0.13459967 0.12806373 0.13031046 0.12724673\n",
            " 0.13521242 0.14522059 0.15257353 0.14848856 0.14338235 0.14562908\n",
            " 0.15236928 0.15400327 0.14971405 0.1621732  0.16319444 0.16584967\n",
            " 0.1613217  0.16110852 0.15942828 0.15730068 0.15507333 0.15291339\n",
            " 0.15091559 0.14912298 0.14753966 0.14614403]\n",
            "10 day output [[0.1449007]]\n",
            "11day input[0.14644608 0.14808007 0.15910948 0.15992647 0.15788399 0.16441993\n",
            " 0.17892157 0.17933007 0.19260621 0.20812908 0.18974673 0.18055556\n",
            " 0.18239379 0.17708333 0.17810458 0.18055556 0.17810458 0.17851307\n",
            " 0.19607843 0.18913399 0.18954248 0.19403595 0.19444444 0.20200163\n",
            " 0.19771242 0.19934641 0.19873366 0.1997549  0.2128268  0.21568627\n",
            " 0.20445261 0.21772876 0.21098856 0.21425654 0.19750817 0.18811275\n",
            " 0.17851307 0.17381536 0.16033497 0.16564542 0.17116013 0.17422386\n",
            " 0.18035131 0.17401961 0.16278595 0.16973039 0.17810458 0.17034314\n",
            " 0.16830065 0.17279412 0.17544935 0.18382353 0.19138072 0.18913399\n",
            " 0.19097222 0.17238562 0.16830065 0.1693219  0.17177288 0.16156046\n",
            " 0.14971405 0.1503268  0.15196078 0.14726307 0.14501634 0.14603758\n",
            " 0.12479575 0.13112745 0.11397059 0.1190768  0.12377451 0.13562092\n",
            " 0.12908497 0.13459967 0.12806373 0.13031046 0.12724673 0.13521242\n",
            " 0.14522059 0.15257353 0.14848856 0.14338235 0.14562908 0.15236928\n",
            " 0.15400327 0.14971405 0.1621732  0.16319444 0.16584967 0.1613217\n",
            " 0.16110852 0.15942828 0.15730068 0.15507333 0.15291339 0.15091559\n",
            " 0.14912298 0.14753966 0.14614403 0.14490069]\n",
            "11 day output [[0.14377001]]\n",
            "12day input[0.14808007 0.15910948 0.15992647 0.15788399 0.16441993 0.17892157\n",
            " 0.17933007 0.19260621 0.20812908 0.18974673 0.18055556 0.18239379\n",
            " 0.17708333 0.17810458 0.18055556 0.17810458 0.17851307 0.19607843\n",
            " 0.18913399 0.18954248 0.19403595 0.19444444 0.20200163 0.19771242\n",
            " 0.19934641 0.19873366 0.1997549  0.2128268  0.21568627 0.20445261\n",
            " 0.21772876 0.21098856 0.21425654 0.19750817 0.18811275 0.17851307\n",
            " 0.17381536 0.16033497 0.16564542 0.17116013 0.17422386 0.18035131\n",
            " 0.17401961 0.16278595 0.16973039 0.17810458 0.17034314 0.16830065\n",
            " 0.17279412 0.17544935 0.18382353 0.19138072 0.18913399 0.19097222\n",
            " 0.17238562 0.16830065 0.1693219  0.17177288 0.16156046 0.14971405\n",
            " 0.1503268  0.15196078 0.14726307 0.14501634 0.14603758 0.12479575\n",
            " 0.13112745 0.11397059 0.1190768  0.12377451 0.13562092 0.12908497\n",
            " 0.13459967 0.12806373 0.13031046 0.12724673 0.13521242 0.14522059\n",
            " 0.15257353 0.14848856 0.14338235 0.14562908 0.15236928 0.15400327\n",
            " 0.14971405 0.1621732  0.16319444 0.16584967 0.1613217  0.16110852\n",
            " 0.15942828 0.15730068 0.15507333 0.15291339 0.15091559 0.14912298\n",
            " 0.14753966 0.14614403 0.14490069 0.14377001]\n",
            "12 day output [[0.1427148]]\n",
            "13day input[0.15910948 0.15992647 0.15788399 0.16441993 0.17892157 0.17933007\n",
            " 0.19260621 0.20812908 0.18974673 0.18055556 0.18239379 0.17708333\n",
            " 0.17810458 0.18055556 0.17810458 0.17851307 0.19607843 0.18913399\n",
            " 0.18954248 0.19403595 0.19444444 0.20200163 0.19771242 0.19934641\n",
            " 0.19873366 0.1997549  0.2128268  0.21568627 0.20445261 0.21772876\n",
            " 0.21098856 0.21425654 0.19750817 0.18811275 0.17851307 0.17381536\n",
            " 0.16033497 0.16564542 0.17116013 0.17422386 0.18035131 0.17401961\n",
            " 0.16278595 0.16973039 0.17810458 0.17034314 0.16830065 0.17279412\n",
            " 0.17544935 0.18382353 0.19138072 0.18913399 0.19097222 0.17238562\n",
            " 0.16830065 0.1693219  0.17177288 0.16156046 0.14971405 0.1503268\n",
            " 0.15196078 0.14726307 0.14501634 0.14603758 0.12479575 0.13112745\n",
            " 0.11397059 0.1190768  0.12377451 0.13562092 0.12908497 0.13459967\n",
            " 0.12806373 0.13031046 0.12724673 0.13521242 0.14522059 0.15257353\n",
            " 0.14848856 0.14338235 0.14562908 0.15236928 0.15400327 0.14971405\n",
            " 0.1621732  0.16319444 0.16584967 0.1613217  0.16110852 0.15942828\n",
            " 0.15730068 0.15507333 0.15291339 0.15091559 0.14912298 0.14753966\n",
            " 0.14614403 0.14490069 0.14377001 0.1427148 ]\n",
            "13 day output [[0.1417047]]\n",
            "14day input[0.15992647 0.15788399 0.16441993 0.17892157 0.17933007 0.19260621\n",
            " 0.20812908 0.18974673 0.18055556 0.18239379 0.17708333 0.17810458\n",
            " 0.18055556 0.17810458 0.17851307 0.19607843 0.18913399 0.18954248\n",
            " 0.19403595 0.19444444 0.20200163 0.19771242 0.19934641 0.19873366\n",
            " 0.1997549  0.2128268  0.21568627 0.20445261 0.21772876 0.21098856\n",
            " 0.21425654 0.19750817 0.18811275 0.17851307 0.17381536 0.16033497\n",
            " 0.16564542 0.17116013 0.17422386 0.18035131 0.17401961 0.16278595\n",
            " 0.16973039 0.17810458 0.17034314 0.16830065 0.17279412 0.17544935\n",
            " 0.18382353 0.19138072 0.18913399 0.19097222 0.17238562 0.16830065\n",
            " 0.1693219  0.17177288 0.16156046 0.14971405 0.1503268  0.15196078\n",
            " 0.14726307 0.14501634 0.14603758 0.12479575 0.13112745 0.11397059\n",
            " 0.1190768  0.12377451 0.13562092 0.12908497 0.13459967 0.12806373\n",
            " 0.13031046 0.12724673 0.13521242 0.14522059 0.15257353 0.14848856\n",
            " 0.14338235 0.14562908 0.15236928 0.15400327 0.14971405 0.1621732\n",
            " 0.16319444 0.16584967 0.1613217  0.16110852 0.15942828 0.15730068\n",
            " 0.15507333 0.15291339 0.15091559 0.14912298 0.14753966 0.14614403\n",
            " 0.14490069 0.14377001 0.1427148  0.14170469]\n",
            "14 day output [[0.14071776]]\n",
            "15day input[0.15788399 0.16441993 0.17892157 0.17933007 0.19260621 0.20812908\n",
            " 0.18974673 0.18055556 0.18239379 0.17708333 0.17810458 0.18055556\n",
            " 0.17810458 0.17851307 0.19607843 0.18913399 0.18954248 0.19403595\n",
            " 0.19444444 0.20200163 0.19771242 0.19934641 0.19873366 0.1997549\n",
            " 0.2128268  0.21568627 0.20445261 0.21772876 0.21098856 0.21425654\n",
            " 0.19750817 0.18811275 0.17851307 0.17381536 0.16033497 0.16564542\n",
            " 0.17116013 0.17422386 0.18035131 0.17401961 0.16278595 0.16973039\n",
            " 0.17810458 0.17034314 0.16830065 0.17279412 0.17544935 0.18382353\n",
            " 0.19138072 0.18913399 0.19097222 0.17238562 0.16830065 0.1693219\n",
            " 0.17177288 0.16156046 0.14971405 0.1503268  0.15196078 0.14726307\n",
            " 0.14501634 0.14603758 0.12479575 0.13112745 0.11397059 0.1190768\n",
            " 0.12377451 0.13562092 0.12908497 0.13459967 0.12806373 0.13031046\n",
            " 0.12724673 0.13521242 0.14522059 0.15257353 0.14848856 0.14338235\n",
            " 0.14562908 0.15236928 0.15400327 0.14971405 0.1621732  0.16319444\n",
            " 0.16584967 0.1613217  0.16110852 0.15942828 0.15730068 0.15507333\n",
            " 0.15291339 0.15091559 0.14912298 0.14753966 0.14614403 0.14490069\n",
            " 0.14377001 0.1427148  0.14170469 0.14071776]\n",
            "15 day output [[0.13974078]]\n",
            "16day input[0.16441993 0.17892157 0.17933007 0.19260621 0.20812908 0.18974673\n",
            " 0.18055556 0.18239379 0.17708333 0.17810458 0.18055556 0.17810458\n",
            " 0.17851307 0.19607843 0.18913399 0.18954248 0.19403595 0.19444444\n",
            " 0.20200163 0.19771242 0.19934641 0.19873366 0.1997549  0.2128268\n",
            " 0.21568627 0.20445261 0.21772876 0.21098856 0.21425654 0.19750817\n",
            " 0.18811275 0.17851307 0.17381536 0.16033497 0.16564542 0.17116013\n",
            " 0.17422386 0.18035131 0.17401961 0.16278595 0.16973039 0.17810458\n",
            " 0.17034314 0.16830065 0.17279412 0.17544935 0.18382353 0.19138072\n",
            " 0.18913399 0.19097222 0.17238562 0.16830065 0.1693219  0.17177288\n",
            " 0.16156046 0.14971405 0.1503268  0.15196078 0.14726307 0.14501634\n",
            " 0.14603758 0.12479575 0.13112745 0.11397059 0.1190768  0.12377451\n",
            " 0.13562092 0.12908497 0.13459967 0.12806373 0.13031046 0.12724673\n",
            " 0.13521242 0.14522059 0.15257353 0.14848856 0.14338235 0.14562908\n",
            " 0.15236928 0.15400327 0.14971405 0.1621732  0.16319444 0.16584967\n",
            " 0.1613217  0.16110852 0.15942828 0.15730068 0.15507333 0.15291339\n",
            " 0.15091559 0.14912298 0.14753966 0.14614403 0.14490069 0.14377001\n",
            " 0.1427148  0.14170469 0.14071776 0.13974078]\n",
            "16 day output [[0.13876824]]\n",
            "17day input[0.17892157 0.17933007 0.19260621 0.20812908 0.18974673 0.18055556\n",
            " 0.18239379 0.17708333 0.17810458 0.18055556 0.17810458 0.17851307\n",
            " 0.19607843 0.18913399 0.18954248 0.19403595 0.19444444 0.20200163\n",
            " 0.19771242 0.19934641 0.19873366 0.1997549  0.2128268  0.21568627\n",
            " 0.20445261 0.21772876 0.21098856 0.21425654 0.19750817 0.18811275\n",
            " 0.17851307 0.17381536 0.16033497 0.16564542 0.17116013 0.17422386\n",
            " 0.18035131 0.17401961 0.16278595 0.16973039 0.17810458 0.17034314\n",
            " 0.16830065 0.17279412 0.17544935 0.18382353 0.19138072 0.18913399\n",
            " 0.19097222 0.17238562 0.16830065 0.1693219  0.17177288 0.16156046\n",
            " 0.14971405 0.1503268  0.15196078 0.14726307 0.14501634 0.14603758\n",
            " 0.12479575 0.13112745 0.11397059 0.1190768  0.12377451 0.13562092\n",
            " 0.12908497 0.13459967 0.12806373 0.13031046 0.12724673 0.13521242\n",
            " 0.14522059 0.15257353 0.14848856 0.14338235 0.14562908 0.15236928\n",
            " 0.15400327 0.14971405 0.1621732  0.16319444 0.16584967 0.1613217\n",
            " 0.16110852 0.15942828 0.15730068 0.15507333 0.15291339 0.15091559\n",
            " 0.14912298 0.14753966 0.14614403 0.14490069 0.14377001 0.1427148\n",
            " 0.14170469 0.14071776 0.13974078 0.13876824]\n",
            "17 day output [[0.13780062]]\n",
            "18day input[0.17933007 0.19260621 0.20812908 0.18974673 0.18055556 0.18239379\n",
            " 0.17708333 0.17810458 0.18055556 0.17810458 0.17851307 0.19607843\n",
            " 0.18913399 0.18954248 0.19403595 0.19444444 0.20200163 0.19771242\n",
            " 0.19934641 0.19873366 0.1997549  0.2128268  0.21568627 0.20445261\n",
            " 0.21772876 0.21098856 0.21425654 0.19750817 0.18811275 0.17851307\n",
            " 0.17381536 0.16033497 0.16564542 0.17116013 0.17422386 0.18035131\n",
            " 0.17401961 0.16278595 0.16973039 0.17810458 0.17034314 0.16830065\n",
            " 0.17279412 0.17544935 0.18382353 0.19138072 0.18913399 0.19097222\n",
            " 0.17238562 0.16830065 0.1693219  0.17177288 0.16156046 0.14971405\n",
            " 0.1503268  0.15196078 0.14726307 0.14501634 0.14603758 0.12479575\n",
            " 0.13112745 0.11397059 0.1190768  0.12377451 0.13562092 0.12908497\n",
            " 0.13459967 0.12806373 0.13031046 0.12724673 0.13521242 0.14522059\n",
            " 0.15257353 0.14848856 0.14338235 0.14562908 0.15236928 0.15400327\n",
            " 0.14971405 0.1621732  0.16319444 0.16584967 0.1613217  0.16110852\n",
            " 0.15942828 0.15730068 0.15507333 0.15291339 0.15091559 0.14912298\n",
            " 0.14753966 0.14614403 0.14490069 0.14377001 0.1427148  0.14170469\n",
            " 0.14071776 0.13974078 0.13876824 0.13780062]\n",
            "18 day output [[0.13684222]]\n",
            "19day input[0.19260621 0.20812908 0.18974673 0.18055556 0.18239379 0.17708333\n",
            " 0.17810458 0.18055556 0.17810458 0.17851307 0.19607843 0.18913399\n",
            " 0.18954248 0.19403595 0.19444444 0.20200163 0.19771242 0.19934641\n",
            " 0.19873366 0.1997549  0.2128268  0.21568627 0.20445261 0.21772876\n",
            " 0.21098856 0.21425654 0.19750817 0.18811275 0.17851307 0.17381536\n",
            " 0.16033497 0.16564542 0.17116013 0.17422386 0.18035131 0.17401961\n",
            " 0.16278595 0.16973039 0.17810458 0.17034314 0.16830065 0.17279412\n",
            " 0.17544935 0.18382353 0.19138072 0.18913399 0.19097222 0.17238562\n",
            " 0.16830065 0.1693219  0.17177288 0.16156046 0.14971405 0.1503268\n",
            " 0.15196078 0.14726307 0.14501634 0.14603758 0.12479575 0.13112745\n",
            " 0.11397059 0.1190768  0.12377451 0.13562092 0.12908497 0.13459967\n",
            " 0.12806373 0.13031046 0.12724673 0.13521242 0.14522059 0.15257353\n",
            " 0.14848856 0.14338235 0.14562908 0.15236928 0.15400327 0.14971405\n",
            " 0.1621732  0.16319444 0.16584967 0.1613217  0.16110852 0.15942828\n",
            " 0.15730068 0.15507333 0.15291339 0.15091559 0.14912298 0.14753966\n",
            " 0.14614403 0.14490069 0.14377001 0.1427148  0.14170469 0.14071776\n",
            " 0.13974078 0.13876824 0.13780062 0.13684222]\n",
            "19 day output [[0.13589947]]\n",
            "20day input[0.20812908 0.18974673 0.18055556 0.18239379 0.17708333 0.17810458\n",
            " 0.18055556 0.17810458 0.17851307 0.19607843 0.18913399 0.18954248\n",
            " 0.19403595 0.19444444 0.20200163 0.19771242 0.19934641 0.19873366\n",
            " 0.1997549  0.2128268  0.21568627 0.20445261 0.21772876 0.21098856\n",
            " 0.21425654 0.19750817 0.18811275 0.17851307 0.17381536 0.16033497\n",
            " 0.16564542 0.17116013 0.17422386 0.18035131 0.17401961 0.16278595\n",
            " 0.16973039 0.17810458 0.17034314 0.16830065 0.17279412 0.17544935\n",
            " 0.18382353 0.19138072 0.18913399 0.19097222 0.17238562 0.16830065\n",
            " 0.1693219  0.17177288 0.16156046 0.14971405 0.1503268  0.15196078\n",
            " 0.14726307 0.14501634 0.14603758 0.12479575 0.13112745 0.11397059\n",
            " 0.1190768  0.12377451 0.13562092 0.12908497 0.13459967 0.12806373\n",
            " 0.13031046 0.12724673 0.13521242 0.14522059 0.15257353 0.14848856\n",
            " 0.14338235 0.14562908 0.15236928 0.15400327 0.14971405 0.1621732\n",
            " 0.16319444 0.16584967 0.1613217  0.16110852 0.15942828 0.15730068\n",
            " 0.15507333 0.15291339 0.15091559 0.14912298 0.14753966 0.14614403\n",
            " 0.14490069 0.14377001 0.1427148  0.14170469 0.14071776 0.13974078\n",
            " 0.13876824 0.13780062 0.13684222 0.13589947]\n",
            "20 day output [[0.13497908]]\n",
            "21day input[0.18974673 0.18055556 0.18239379 0.17708333 0.17810458 0.18055556\n",
            " 0.17810458 0.17851307 0.19607843 0.18913399 0.18954248 0.19403595\n",
            " 0.19444444 0.20200163 0.19771242 0.19934641 0.19873366 0.1997549\n",
            " 0.2128268  0.21568627 0.20445261 0.21772876 0.21098856 0.21425654\n",
            " 0.19750817 0.18811275 0.17851307 0.17381536 0.16033497 0.16564542\n",
            " 0.17116013 0.17422386 0.18035131 0.17401961 0.16278595 0.16973039\n",
            " 0.17810458 0.17034314 0.16830065 0.17279412 0.17544935 0.18382353\n",
            " 0.19138072 0.18913399 0.19097222 0.17238562 0.16830065 0.1693219\n",
            " 0.17177288 0.16156046 0.14971405 0.1503268  0.15196078 0.14726307\n",
            " 0.14501634 0.14603758 0.12479575 0.13112745 0.11397059 0.1190768\n",
            " 0.12377451 0.13562092 0.12908497 0.13459967 0.12806373 0.13031046\n",
            " 0.12724673 0.13521242 0.14522059 0.15257353 0.14848856 0.14338235\n",
            " 0.14562908 0.15236928 0.15400327 0.14971405 0.1621732  0.16319444\n",
            " 0.16584967 0.1613217  0.16110852 0.15942828 0.15730068 0.15507333\n",
            " 0.15291339 0.15091559 0.14912298 0.14753966 0.14614403 0.14490069\n",
            " 0.14377001 0.1427148  0.14170469 0.14071776 0.13974078 0.13876824\n",
            " 0.13780062 0.13684222 0.13589947 0.13497908]\n",
            "21 day output [[0.13408707]]\n",
            "22day input[0.18055556 0.18239379 0.17708333 0.17810458 0.18055556 0.17810458\n",
            " 0.17851307 0.19607843 0.18913399 0.18954248 0.19403595 0.19444444\n",
            " 0.20200163 0.19771242 0.19934641 0.19873366 0.1997549  0.2128268\n",
            " 0.21568627 0.20445261 0.21772876 0.21098856 0.21425654 0.19750817\n",
            " 0.18811275 0.17851307 0.17381536 0.16033497 0.16564542 0.17116013\n",
            " 0.17422386 0.18035131 0.17401961 0.16278595 0.16973039 0.17810458\n",
            " 0.17034314 0.16830065 0.17279412 0.17544935 0.18382353 0.19138072\n",
            " 0.18913399 0.19097222 0.17238562 0.16830065 0.1693219  0.17177288\n",
            " 0.16156046 0.14971405 0.1503268  0.15196078 0.14726307 0.14501634\n",
            " 0.14603758 0.12479575 0.13112745 0.11397059 0.1190768  0.12377451\n",
            " 0.13562092 0.12908497 0.13459967 0.12806373 0.13031046 0.12724673\n",
            " 0.13521242 0.14522059 0.15257353 0.14848856 0.14338235 0.14562908\n",
            " 0.15236928 0.15400327 0.14971405 0.1621732  0.16319444 0.16584967\n",
            " 0.1613217  0.16110852 0.15942828 0.15730068 0.15507333 0.15291339\n",
            " 0.15091559 0.14912298 0.14753966 0.14614403 0.14490069 0.14377001\n",
            " 0.1427148  0.14170469 0.14071776 0.13974078 0.13876824 0.13780062\n",
            " 0.13684222 0.13589947 0.13497908 0.13408707]\n",
            "22 day output [[0.13322785]]\n",
            "23day input[0.18239379 0.17708333 0.17810458 0.18055556 0.17810458 0.17851307\n",
            " 0.19607843 0.18913399 0.18954248 0.19403595 0.19444444 0.20200163\n",
            " 0.19771242 0.19934641 0.19873366 0.1997549  0.2128268  0.21568627\n",
            " 0.20445261 0.21772876 0.21098856 0.21425654 0.19750817 0.18811275\n",
            " 0.17851307 0.17381536 0.16033497 0.16564542 0.17116013 0.17422386\n",
            " 0.18035131 0.17401961 0.16278595 0.16973039 0.17810458 0.17034314\n",
            " 0.16830065 0.17279412 0.17544935 0.18382353 0.19138072 0.18913399\n",
            " 0.19097222 0.17238562 0.16830065 0.1693219  0.17177288 0.16156046\n",
            " 0.14971405 0.1503268  0.15196078 0.14726307 0.14501634 0.14603758\n",
            " 0.12479575 0.13112745 0.11397059 0.1190768  0.12377451 0.13562092\n",
            " 0.12908497 0.13459967 0.12806373 0.13031046 0.12724673 0.13521242\n",
            " 0.14522059 0.15257353 0.14848856 0.14338235 0.14562908 0.15236928\n",
            " 0.15400327 0.14971405 0.1621732  0.16319444 0.16584967 0.1613217\n",
            " 0.16110852 0.15942828 0.15730068 0.15507333 0.15291339 0.15091559\n",
            " 0.14912298 0.14753966 0.14614403 0.14490069 0.14377001 0.1427148\n",
            " 0.14170469 0.14071776 0.13974078 0.13876824 0.13780062 0.13684222\n",
            " 0.13589947 0.13497908 0.13408707 0.13322785]\n",
            "23 day output [[0.1324041]]\n",
            "24day input[0.17708333 0.17810458 0.18055556 0.17810458 0.17851307 0.19607843\n",
            " 0.18913399 0.18954248 0.19403595 0.19444444 0.20200163 0.19771242\n",
            " 0.19934641 0.19873366 0.1997549  0.2128268  0.21568627 0.20445261\n",
            " 0.21772876 0.21098856 0.21425654 0.19750817 0.18811275 0.17851307\n",
            " 0.17381536 0.16033497 0.16564542 0.17116013 0.17422386 0.18035131\n",
            " 0.17401961 0.16278595 0.16973039 0.17810458 0.17034314 0.16830065\n",
            " 0.17279412 0.17544935 0.18382353 0.19138072 0.18913399 0.19097222\n",
            " 0.17238562 0.16830065 0.1693219  0.17177288 0.16156046 0.14971405\n",
            " 0.1503268  0.15196078 0.14726307 0.14501634 0.14603758 0.12479575\n",
            " 0.13112745 0.11397059 0.1190768  0.12377451 0.13562092 0.12908497\n",
            " 0.13459967 0.12806373 0.13031046 0.12724673 0.13521242 0.14522059\n",
            " 0.15257353 0.14848856 0.14338235 0.14562908 0.15236928 0.15400327\n",
            " 0.14971405 0.1621732  0.16319444 0.16584967 0.1613217  0.16110852\n",
            " 0.15942828 0.15730068 0.15507333 0.15291339 0.15091559 0.14912298\n",
            " 0.14753966 0.14614403 0.14490069 0.14377001 0.1427148  0.14170469\n",
            " 0.14071776 0.13974078 0.13876824 0.13780062 0.13684222 0.13589947\n",
            " 0.13497908 0.13408707 0.13322785 0.1324041 ]\n",
            "24 day output [[0.13161658]]\n",
            "25day input[0.17810458 0.18055556 0.17810458 0.17851307 0.19607843 0.18913399\n",
            " 0.18954248 0.19403595 0.19444444 0.20200163 0.19771242 0.19934641\n",
            " 0.19873366 0.1997549  0.2128268  0.21568627 0.20445261 0.21772876\n",
            " 0.21098856 0.21425654 0.19750817 0.18811275 0.17851307 0.17381536\n",
            " 0.16033497 0.16564542 0.17116013 0.17422386 0.18035131 0.17401961\n",
            " 0.16278595 0.16973039 0.17810458 0.17034314 0.16830065 0.17279412\n",
            " 0.17544935 0.18382353 0.19138072 0.18913399 0.19097222 0.17238562\n",
            " 0.16830065 0.1693219  0.17177288 0.16156046 0.14971405 0.1503268\n",
            " 0.15196078 0.14726307 0.14501634 0.14603758 0.12479575 0.13112745\n",
            " 0.11397059 0.1190768  0.12377451 0.13562092 0.12908497 0.13459967\n",
            " 0.12806373 0.13031046 0.12724673 0.13521242 0.14522059 0.15257353\n",
            " 0.14848856 0.14338235 0.14562908 0.15236928 0.15400327 0.14971405\n",
            " 0.1621732  0.16319444 0.16584967 0.1613217  0.16110852 0.15942828\n",
            " 0.15730068 0.15507333 0.15291339 0.15091559 0.14912298 0.14753966\n",
            " 0.14614403 0.14490069 0.14377001 0.1427148  0.14170469 0.14071776\n",
            " 0.13974078 0.13876824 0.13780062 0.13684222 0.13589947 0.13497908\n",
            " 0.13408707 0.13322785 0.1324041  0.13161658]\n",
            "25 day output [[0.13086458]]\n",
            "26day input[0.18055556 0.17810458 0.17851307 0.19607843 0.18913399 0.18954248\n",
            " 0.19403595 0.19444444 0.20200163 0.19771242 0.19934641 0.19873366\n",
            " 0.1997549  0.2128268  0.21568627 0.20445261 0.21772876 0.21098856\n",
            " 0.21425654 0.19750817 0.18811275 0.17851307 0.17381536 0.16033497\n",
            " 0.16564542 0.17116013 0.17422386 0.18035131 0.17401961 0.16278595\n",
            " 0.16973039 0.17810458 0.17034314 0.16830065 0.17279412 0.17544935\n",
            " 0.18382353 0.19138072 0.18913399 0.19097222 0.17238562 0.16830065\n",
            " 0.1693219  0.17177288 0.16156046 0.14971405 0.1503268  0.15196078\n",
            " 0.14726307 0.14501634 0.14603758 0.12479575 0.13112745 0.11397059\n",
            " 0.1190768  0.12377451 0.13562092 0.12908497 0.13459967 0.12806373\n",
            " 0.13031046 0.12724673 0.13521242 0.14522059 0.15257353 0.14848856\n",
            " 0.14338235 0.14562908 0.15236928 0.15400327 0.14971405 0.1621732\n",
            " 0.16319444 0.16584967 0.1613217  0.16110852 0.15942828 0.15730068\n",
            " 0.15507333 0.15291339 0.15091559 0.14912298 0.14753966 0.14614403\n",
            " 0.14490069 0.14377001 0.1427148  0.14170469 0.14071776 0.13974078\n",
            " 0.13876824 0.13780062 0.13684222 0.13589947 0.13497908 0.13408707\n",
            " 0.13322785 0.1324041  0.13161658 0.13086458]\n",
            "26 day output [[0.13014612]]\n",
            "27day input[0.17810458 0.17851307 0.19607843 0.18913399 0.18954248 0.19403595\n",
            " 0.19444444 0.20200163 0.19771242 0.19934641 0.19873366 0.1997549\n",
            " 0.2128268  0.21568627 0.20445261 0.21772876 0.21098856 0.21425654\n",
            " 0.19750817 0.18811275 0.17851307 0.17381536 0.16033497 0.16564542\n",
            " 0.17116013 0.17422386 0.18035131 0.17401961 0.16278595 0.16973039\n",
            " 0.17810458 0.17034314 0.16830065 0.17279412 0.17544935 0.18382353\n",
            " 0.19138072 0.18913399 0.19097222 0.17238562 0.16830065 0.1693219\n",
            " 0.17177288 0.16156046 0.14971405 0.1503268  0.15196078 0.14726307\n",
            " 0.14501634 0.14603758 0.12479575 0.13112745 0.11397059 0.1190768\n",
            " 0.12377451 0.13562092 0.12908497 0.13459967 0.12806373 0.13031046\n",
            " 0.12724673 0.13521242 0.14522059 0.15257353 0.14848856 0.14338235\n",
            " 0.14562908 0.15236928 0.15400327 0.14971405 0.1621732  0.16319444\n",
            " 0.16584967 0.1613217  0.16110852 0.15942828 0.15730068 0.15507333\n",
            " 0.15291339 0.15091559 0.14912298 0.14753966 0.14614403 0.14490069\n",
            " 0.14377001 0.1427148  0.14170469 0.14071776 0.13974078 0.13876824\n",
            " 0.13780062 0.13684222 0.13589947 0.13497908 0.13408707 0.13322785\n",
            " 0.1324041  0.13161658 0.13086458 0.13014612]\n",
            "27 day output [[0.12945843]]\n",
            "28day input[0.17851307 0.19607843 0.18913399 0.18954248 0.19403595 0.19444444\n",
            " 0.20200163 0.19771242 0.19934641 0.19873366 0.1997549  0.2128268\n",
            " 0.21568627 0.20445261 0.21772876 0.21098856 0.21425654 0.19750817\n",
            " 0.18811275 0.17851307 0.17381536 0.16033497 0.16564542 0.17116013\n",
            " 0.17422386 0.18035131 0.17401961 0.16278595 0.16973039 0.17810458\n",
            " 0.17034314 0.16830065 0.17279412 0.17544935 0.18382353 0.19138072\n",
            " 0.18913399 0.19097222 0.17238562 0.16830065 0.1693219  0.17177288\n",
            " 0.16156046 0.14971405 0.1503268  0.15196078 0.14726307 0.14501634\n",
            " 0.14603758 0.12479575 0.13112745 0.11397059 0.1190768  0.12377451\n",
            " 0.13562092 0.12908497 0.13459967 0.12806373 0.13031046 0.12724673\n",
            " 0.13521242 0.14522059 0.15257353 0.14848856 0.14338235 0.14562908\n",
            " 0.15236928 0.15400327 0.14971405 0.1621732  0.16319444 0.16584967\n",
            " 0.1613217  0.16110852 0.15942828 0.15730068 0.15507333 0.15291339\n",
            " 0.15091559 0.14912298 0.14753966 0.14614403 0.14490069 0.14377001\n",
            " 0.1427148  0.14170469 0.14071776 0.13974078 0.13876824 0.13780062\n",
            " 0.13684222 0.13589947 0.13497908 0.13408707 0.13322785 0.1324041\n",
            " 0.13161658 0.13086458 0.13014612 0.12945843]\n",
            "28 day output [[0.12879851]]\n",
            "29day input[0.19607843 0.18913399 0.18954248 0.19403595 0.19444444 0.20200163\n",
            " 0.19771242 0.19934641 0.19873366 0.1997549  0.2128268  0.21568627\n",
            " 0.20445261 0.21772876 0.21098856 0.21425654 0.19750817 0.18811275\n",
            " 0.17851307 0.17381536 0.16033497 0.16564542 0.17116013 0.17422386\n",
            " 0.18035131 0.17401961 0.16278595 0.16973039 0.17810458 0.17034314\n",
            " 0.16830065 0.17279412 0.17544935 0.18382353 0.19138072 0.18913399\n",
            " 0.19097222 0.17238562 0.16830065 0.1693219  0.17177288 0.16156046\n",
            " 0.14971405 0.1503268  0.15196078 0.14726307 0.14501634 0.14603758\n",
            " 0.12479575 0.13112745 0.11397059 0.1190768  0.12377451 0.13562092\n",
            " 0.12908497 0.13459967 0.12806373 0.13031046 0.12724673 0.13521242\n",
            " 0.14522059 0.15257353 0.14848856 0.14338235 0.14562908 0.15236928\n",
            " 0.15400327 0.14971405 0.1621732  0.16319444 0.16584967 0.1613217\n",
            " 0.16110852 0.15942828 0.15730068 0.15507333 0.15291339 0.15091559\n",
            " 0.14912298 0.14753966 0.14614403 0.14490069 0.14377001 0.1427148\n",
            " 0.14170469 0.14071776 0.13974078 0.13876824 0.13780062 0.13684222\n",
            " 0.13589947 0.13497908 0.13408707 0.13322785 0.1324041  0.13161658\n",
            " 0.13086458 0.13014612 0.12945843 0.12879851]\n",
            "29 day output [[0.1281633]]\n",
            "[[0.1613216996192932], [0.16110852360725403], [0.15942828357219696], [0.1573006808757782], [0.15507332980632782], [0.1529133915901184], [0.15091559290885925], [0.14912298321723938], [0.1475396603345871], [0.14614403247833252], [0.14490069448947906], [0.1437700092792511], [0.14271479845046997], [0.14170469343662262], [0.1407177597284317], [0.13974077999591827], [0.1387682408094406], [0.13780061900615692], [0.13684222102165222], [0.13589946925640106], [0.13497908413410187], [0.13408707082271576], [0.1332278549671173], [0.13240410387516022], [0.13161657750606537], [0.13086457550525665], [0.1301461160182953], [0.12945842742919922], [0.12879851460456848], [0.12816329300403595]]\n"
          ]
        }
      ]
    },
    {
      "cell_type": "code",
      "source": [
        "day_new = np.arange(1,101)\n",
        "day_pred = np.arange(101,131)"
      ],
      "metadata": {
        "id": "UuLB6O1vbo0a"
      },
      "execution_count": null,
      "outputs": []
    },
    {
      "cell_type": "code",
      "source": [
        "df3 = data_close.tolist()\n",
        "df3.extend(first_output)"
      ],
      "metadata": {
        "id": "kksQ2B7kbpem"
      },
      "execution_count": null,
      "outputs": []
    },
    {
      "cell_type": "code",
      "source": [
        "len(data_close)"
      ],
      "metadata": {
        "colab": {
          "base_uri": "https://localhost:8080/"
        },
        "id": "X2ywCF01bxQE",
        "outputId": "860f35d3-00f3-414b-f287-f0eac28474c2"
      },
      "execution_count": null,
      "outputs": [
        {
          "output_type": "execute_result",
          "data": {
            "text/plain": [
              "2035"
            ]
          },
          "metadata": {},
          "execution_count": 32
        }
      ]
    },
    {
      "cell_type": "code",
      "source": [
        "plt.plot(day_new, scaler.inverse_transform(data_close[1935:]))\n",
        "plt.plot(day_pred, scaler.inverse_transform(first_output))"
      ],
      "metadata": {
        "id": "B63IYxkxb2jf",
        "outputId": "08532b63-2ba5-4e4c-b9ca-3d96f2f4a8f7",
        "colab": {
          "base_uri": "https://localhost:8080/",
          "height": 282
        }
      },
      "execution_count": null,
      "outputs": [
        {
          "output_type": "execute_result",
          "data": {
            "text/plain": [
              "[<matplotlib.lines.Line2D at 0x7ff71baf9e90>]"
            ]
          },
          "metadata": {},
          "execution_count": 33
        },
        {
          "output_type": "display_data",
          "data": {
            "image/png": "[encoded data removed]",
            "text/plain": [
              "<Figure size 432x288 with 1 Axes>"
            ]
          },
          "metadata": {
            "needs_background": "light"
          }
        }
      ]
    }
  ]
}